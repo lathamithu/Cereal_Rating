{
  "nbformat": 4,
  "nbformat_minor": 0,
  "metadata": {
    "colab": {
      "name": "CEREAL RATING.ipynb",
      "provenance": [],
      "authorship_tag": "ABX9TyNJDfeWgScCA9sREG5IIVm1",
      "include_colab_link": true
    },
    "kernelspec": {
      "name": "python3",
      "display_name": "Python 3"
    }
  },
  "cells": [
    {
      "cell_type": "markdown",
      "metadata": {
        "id": "view-in-github",
        "colab_type": "text"
      },
      "source": [
        "<a href=\"https://colab.research.google.com/github/lathamithu/Cereal_Rating/blob/main/CEREAL_RATING.ipynb\" target=\"_parent\"><img src=\"https://colab.research.google.com/assets/colab-badge.svg\" alt=\"Open In Colab\"/></a>"
      ]
    },
    {
      "cell_type": "code",
      "metadata": {
        "id": "f6DnyTYUSuIx"
      },
      "source": [
        "import pandas as pd\n",
        "import numpy as np"
      ],
      "execution_count": 228,
      "outputs": []
    },
    {
      "cell_type": "code",
      "metadata": {
        "id": "vSmo35jtSz9k"
      },
      "source": [
        "df=pd.read_csv('https://rb.gy/ktivhd')"
      ],
      "execution_count": 229,
      "outputs": []
    },
    {
      "cell_type": "code",
      "metadata": {
        "id": "P9MS71MKS6GH",
        "outputId": "275915c5-e27a-43bc-c63b-13f076b26f5c",
        "colab": {
          "base_uri": "https://localhost:8080/",
          "height": 195
        }
      },
      "source": [
        "df.head()"
      ],
      "execution_count": 230,
      "outputs": [
        {
          "output_type": "execute_result",
          "data": {
            "text/html": [
              "<div>\n",
              "<style scoped>\n",
              "    .dataframe tbody tr th:only-of-type {\n",
              "        vertical-align: middle;\n",
              "    }\n",
              "\n",
              "    .dataframe tbody tr th {\n",
              "        vertical-align: top;\n",
              "    }\n",
              "\n",
              "    .dataframe thead th {\n",
              "        text-align: right;\n",
              "    }\n",
              "</style>\n",
              "<table border=\"1\" class=\"dataframe\">\n",
              "  <thead>\n",
              "    <tr style=\"text-align: right;\">\n",
              "      <th></th>\n",
              "      <th>name</th>\n",
              "      <th>mfr</th>\n",
              "      <th>type</th>\n",
              "      <th>calories</th>\n",
              "      <th>protein</th>\n",
              "      <th>fat</th>\n",
              "      <th>sodium</th>\n",
              "      <th>fiber</th>\n",
              "      <th>carbo</th>\n",
              "      <th>sugars</th>\n",
              "      <th>potass</th>\n",
              "      <th>vitamins</th>\n",
              "      <th>shelf</th>\n",
              "      <th>weight</th>\n",
              "      <th>cups</th>\n",
              "      <th>rating</th>\n",
              "    </tr>\n",
              "  </thead>\n",
              "  <tbody>\n",
              "    <tr>\n",
              "      <th>0</th>\n",
              "      <td>100% Bran</td>\n",
              "      <td>N</td>\n",
              "      <td>C</td>\n",
              "      <td>70</td>\n",
              "      <td>4</td>\n",
              "      <td>1</td>\n",
              "      <td>130</td>\n",
              "      <td>10.0</td>\n",
              "      <td>5.0</td>\n",
              "      <td>6</td>\n",
              "      <td>280</td>\n",
              "      <td>25</td>\n",
              "      <td>3</td>\n",
              "      <td>1.0</td>\n",
              "      <td>0.33</td>\n",
              "      <td>68.402973</td>\n",
              "    </tr>\n",
              "    <tr>\n",
              "      <th>1</th>\n",
              "      <td>100% Natural Bran</td>\n",
              "      <td>Q</td>\n",
              "      <td>C</td>\n",
              "      <td>120</td>\n",
              "      <td>3</td>\n",
              "      <td>5</td>\n",
              "      <td>15</td>\n",
              "      <td>2.0</td>\n",
              "      <td>8.0</td>\n",
              "      <td>8</td>\n",
              "      <td>135</td>\n",
              "      <td>0</td>\n",
              "      <td>3</td>\n",
              "      <td>1.0</td>\n",
              "      <td>1.00</td>\n",
              "      <td>33.983679</td>\n",
              "    </tr>\n",
              "    <tr>\n",
              "      <th>2</th>\n",
              "      <td>All-Bran</td>\n",
              "      <td>K</td>\n",
              "      <td>C</td>\n",
              "      <td>70</td>\n",
              "      <td>4</td>\n",
              "      <td>1</td>\n",
              "      <td>260</td>\n",
              "      <td>9.0</td>\n",
              "      <td>7.0</td>\n",
              "      <td>5</td>\n",
              "      <td>320</td>\n",
              "      <td>25</td>\n",
              "      <td>3</td>\n",
              "      <td>1.0</td>\n",
              "      <td>0.33</td>\n",
              "      <td>59.425505</td>\n",
              "    </tr>\n",
              "    <tr>\n",
              "      <th>3</th>\n",
              "      <td>All-Bran with Extra Fiber</td>\n",
              "      <td>K</td>\n",
              "      <td>C</td>\n",
              "      <td>50</td>\n",
              "      <td>4</td>\n",
              "      <td>0</td>\n",
              "      <td>140</td>\n",
              "      <td>14.0</td>\n",
              "      <td>8.0</td>\n",
              "      <td>0</td>\n",
              "      <td>330</td>\n",
              "      <td>25</td>\n",
              "      <td>3</td>\n",
              "      <td>1.0</td>\n",
              "      <td>0.50</td>\n",
              "      <td>93.704912</td>\n",
              "    </tr>\n",
              "    <tr>\n",
              "      <th>4</th>\n",
              "      <td>Almond Delight</td>\n",
              "      <td>R</td>\n",
              "      <td>C</td>\n",
              "      <td>110</td>\n",
              "      <td>2</td>\n",
              "      <td>2</td>\n",
              "      <td>200</td>\n",
              "      <td>1.0</td>\n",
              "      <td>14.0</td>\n",
              "      <td>8</td>\n",
              "      <td>-1</td>\n",
              "      <td>25</td>\n",
              "      <td>3</td>\n",
              "      <td>1.0</td>\n",
              "      <td>0.75</td>\n",
              "      <td>34.384843</td>\n",
              "    </tr>\n",
              "  </tbody>\n",
              "</table>\n",
              "</div>"
            ],
            "text/plain": [
              "                        name mfr type  calories  ...  shelf  weight  cups     rating\n",
              "0                  100% Bran   N    C        70  ...      3     1.0  0.33  68.402973\n",
              "1          100% Natural Bran   Q    C       120  ...      3     1.0  1.00  33.983679\n",
              "2                   All-Bran   K    C        70  ...      3     1.0  0.33  59.425505\n",
              "3  All-Bran with Extra Fiber   K    C        50  ...      3     1.0  0.50  93.704912\n",
              "4             Almond Delight   R    C       110  ...      3     1.0  0.75  34.384843\n",
              "\n",
              "[5 rows x 16 columns]"
            ]
          },
          "metadata": {
            "tags": []
          },
          "execution_count": 230
        }
      ]
    },
    {
      "cell_type": "code",
      "metadata": {
        "id": "VtJNjBWQS9FG",
        "outputId": "43e7d1dc-8b2b-4a36-8e1f-af2bff0ee1bd",
        "colab": {
          "base_uri": "https://localhost:8080/",
          "height": 195
        }
      },
      "source": [
        "df.tail()"
      ],
      "execution_count": 231,
      "outputs": [
        {
          "output_type": "execute_result",
          "data": {
            "text/html": [
              "<div>\n",
              "<style scoped>\n",
              "    .dataframe tbody tr th:only-of-type {\n",
              "        vertical-align: middle;\n",
              "    }\n",
              "\n",
              "    .dataframe tbody tr th {\n",
              "        vertical-align: top;\n",
              "    }\n",
              "\n",
              "    .dataframe thead th {\n",
              "        text-align: right;\n",
              "    }\n",
              "</style>\n",
              "<table border=\"1\" class=\"dataframe\">\n",
              "  <thead>\n",
              "    <tr style=\"text-align: right;\">\n",
              "      <th></th>\n",
              "      <th>name</th>\n",
              "      <th>mfr</th>\n",
              "      <th>type</th>\n",
              "      <th>calories</th>\n",
              "      <th>protein</th>\n",
              "      <th>fat</th>\n",
              "      <th>sodium</th>\n",
              "      <th>fiber</th>\n",
              "      <th>carbo</th>\n",
              "      <th>sugars</th>\n",
              "      <th>potass</th>\n",
              "      <th>vitamins</th>\n",
              "      <th>shelf</th>\n",
              "      <th>weight</th>\n",
              "      <th>cups</th>\n",
              "      <th>rating</th>\n",
              "    </tr>\n",
              "  </thead>\n",
              "  <tbody>\n",
              "    <tr>\n",
              "      <th>72</th>\n",
              "      <td>Triples</td>\n",
              "      <td>G</td>\n",
              "      <td>C</td>\n",
              "      <td>110</td>\n",
              "      <td>2</td>\n",
              "      <td>1</td>\n",
              "      <td>250</td>\n",
              "      <td>0.0</td>\n",
              "      <td>21.0</td>\n",
              "      <td>3</td>\n",
              "      <td>60</td>\n",
              "      <td>25</td>\n",
              "      <td>3</td>\n",
              "      <td>1.0</td>\n",
              "      <td>0.75</td>\n",
              "      <td>39.106174</td>\n",
              "    </tr>\n",
              "    <tr>\n",
              "      <th>73</th>\n",
              "      <td>Trix</td>\n",
              "      <td>G</td>\n",
              "      <td>C</td>\n",
              "      <td>110</td>\n",
              "      <td>1</td>\n",
              "      <td>1</td>\n",
              "      <td>140</td>\n",
              "      <td>0.0</td>\n",
              "      <td>13.0</td>\n",
              "      <td>12</td>\n",
              "      <td>25</td>\n",
              "      <td>25</td>\n",
              "      <td>2</td>\n",
              "      <td>1.0</td>\n",
              "      <td>1.00</td>\n",
              "      <td>27.753301</td>\n",
              "    </tr>\n",
              "    <tr>\n",
              "      <th>74</th>\n",
              "      <td>Wheat Chex</td>\n",
              "      <td>R</td>\n",
              "      <td>C</td>\n",
              "      <td>100</td>\n",
              "      <td>3</td>\n",
              "      <td>1</td>\n",
              "      <td>230</td>\n",
              "      <td>3.0</td>\n",
              "      <td>17.0</td>\n",
              "      <td>3</td>\n",
              "      <td>115</td>\n",
              "      <td>25</td>\n",
              "      <td>1</td>\n",
              "      <td>1.0</td>\n",
              "      <td>0.67</td>\n",
              "      <td>49.787445</td>\n",
              "    </tr>\n",
              "    <tr>\n",
              "      <th>75</th>\n",
              "      <td>Wheaties</td>\n",
              "      <td>G</td>\n",
              "      <td>C</td>\n",
              "      <td>100</td>\n",
              "      <td>3</td>\n",
              "      <td>1</td>\n",
              "      <td>200</td>\n",
              "      <td>3.0</td>\n",
              "      <td>17.0</td>\n",
              "      <td>3</td>\n",
              "      <td>110</td>\n",
              "      <td>25</td>\n",
              "      <td>1</td>\n",
              "      <td>1.0</td>\n",
              "      <td>1.00</td>\n",
              "      <td>51.592193</td>\n",
              "    </tr>\n",
              "    <tr>\n",
              "      <th>76</th>\n",
              "      <td>Wheaties Honey Gold</td>\n",
              "      <td>G</td>\n",
              "      <td>C</td>\n",
              "      <td>110</td>\n",
              "      <td>2</td>\n",
              "      <td>1</td>\n",
              "      <td>200</td>\n",
              "      <td>1.0</td>\n",
              "      <td>16.0</td>\n",
              "      <td>8</td>\n",
              "      <td>60</td>\n",
              "      <td>25</td>\n",
              "      <td>1</td>\n",
              "      <td>1.0</td>\n",
              "      <td>0.75</td>\n",
              "      <td>36.187559</td>\n",
              "    </tr>\n",
              "  </tbody>\n",
              "</table>\n",
              "</div>"
            ],
            "text/plain": [
              "                   name mfr type  calories  ...  shelf  weight  cups     rating\n",
              "72              Triples   G    C       110  ...      3     1.0  0.75  39.106174\n",
              "73                 Trix   G    C       110  ...      2     1.0  1.00  27.753301\n",
              "74           Wheat Chex   R    C       100  ...      1     1.0  0.67  49.787445\n",
              "75             Wheaties   G    C       100  ...      1     1.0  1.00  51.592193\n",
              "76  Wheaties Honey Gold   G    C       110  ...      1     1.0  0.75  36.187559\n",
              "\n",
              "[5 rows x 16 columns]"
            ]
          },
          "metadata": {
            "tags": []
          },
          "execution_count": 231
        }
      ]
    },
    {
      "cell_type": "code",
      "metadata": {
        "id": "McucuhN9TZW4",
        "outputId": "f195ce46-480b-43fe-b4e8-5af5b6cd663c",
        "colab": {
          "base_uri": "https://localhost:8080/"
        }
      },
      "source": [
        "df.shape"
      ],
      "execution_count": 232,
      "outputs": [
        {
          "output_type": "execute_result",
          "data": {
            "text/plain": [
              "(77, 16)"
            ]
          },
          "metadata": {
            "tags": []
          },
          "execution_count": 232
        }
      ]
    },
    {
      "cell_type": "code",
      "metadata": {
        "id": "iPlfulvXTDFz"
      },
      "source": [
        "data = df.drop(['name'], axis = 1)"
      ],
      "execution_count": 233,
      "outputs": []
    },
    {
      "cell_type": "code",
      "metadata": {
        "id": "2DTxCx8LTXCV",
        "outputId": "a6d59e4f-df9b-4fc1-9652-9270770896b6",
        "colab": {
          "base_uri": "https://localhost:8080/"
        }
      },
      "source": [
        "# set() avoids repetition and shows unique values\n",
        "\n",
        "print(set(data['shelf']))"
      ],
      "execution_count": 234,
      "outputs": [
        {
          "output_type": "stream",
          "text": [
            "{1, 2, 3}\n"
          ],
          "name": "stdout"
        }
      ]
    },
    {
      "cell_type": "code",
      "metadata": {
        "id": "EhZkon3gUXc6"
      },
      "source": [
        "from sklearn.preprocessing import LabelEncoder\n",
        "le = LabelEncoder()"
      ],
      "execution_count": 235,
      "outputs": []
    },
    {
      "cell_type": "code",
      "metadata": {
        "id": "CYi_HAIWU4aP"
      },
      "source": [
        "x = data.iloc[:,:-1].values   #independent variables\n",
        "y = data.iloc[:,-1].values    #dependent variable"
      ],
      "execution_count": 236,
      "outputs": []
    },
    {
      "cell_type": "code",
      "metadata": {
        "id": "4oBqHbrQVVfc",
        "outputId": "5bb1ae85-b30a-45e9-84dd-418f88a03dec",
        "colab": {
          "base_uri": "https://localhost:8080/"
        }
      },
      "source": [
        "data.isnull().sum()   #no missing values"
      ],
      "execution_count": 237,
      "outputs": [
        {
          "output_type": "execute_result",
          "data": {
            "text/plain": [
              "mfr         0\n",
              "type        0\n",
              "calories    0\n",
              "protein     0\n",
              "fat         0\n",
              "sodium      0\n",
              "fiber       0\n",
              "carbo       0\n",
              "sugars      0\n",
              "potass      0\n",
              "vitamins    0\n",
              "shelf       0\n",
              "weight      0\n",
              "cups        0\n",
              "rating      0\n",
              "dtype: int64"
            ]
          },
          "metadata": {
            "tags": []
          },
          "execution_count": 237
        }
      ]
    },
    {
      "cell_type": "code",
      "metadata": {
        "id": "SSyoDoAzVkqo",
        "outputId": "0b23ad46-f555-46bd-c9bb-96e7a2a9df39",
        "colab": {
          "base_uri": "https://localhost:8080/"
        }
      },
      "source": [
        "for i in range(2):\n",
        "  x[:,i] = le.fit_transform(x[:,i])\n",
        "\n",
        "x"
      ],
      "execution_count": 238,
      "outputs": [
        {
          "output_type": "execute_result",
          "data": {
            "text/plain": [
              "array([[3, 0, 70, ..., 3, 1.0, 0.33],\n",
              "       [5, 0, 120, ..., 3, 1.0, 1.0],\n",
              "       [2, 0, 70, ..., 3, 1.0, 0.33],\n",
              "       ...,\n",
              "       [6, 0, 100, ..., 1, 1.0, 0.67],\n",
              "       [1, 0, 100, ..., 1, 1.0, 1.0],\n",
              "       [1, 0, 110, ..., 1, 1.0, 0.75]], dtype=object)"
            ]
          },
          "metadata": {
            "tags": []
          },
          "execution_count": 238
        }
      ]
    },
    {
      "cell_type": "markdown",
      "metadata": {
        "id": "bEdWOAwmXcGu"
      },
      "source": [
        "*3 METHODS OF CORRELATION CALCULATION :*\n",
        "\n",
        ">   1) Pearson - calculation depends on mean; used for no outliers\n",
        "\n",
        ">  2) Kendall\n",
        "\n",
        "> 3) Spearman\n",
        "\n",
        "\n",
        "\n",
        "\n",
        "\n"
      ]
    },
    {
      "cell_type": "code",
      "metadata": {
        "id": "fvahzPpsV463"
      },
      "source": [
        "from scipy.stats import pearsonr"
      ],
      "execution_count": 239,
      "outputs": []
    },
    {
      "cell_type": "code",
      "metadata": {
        "id": "Xkm91HD2WsVb",
        "outputId": "95ca6f31-4105-4162-dc64-3efb9376baa1",
        "colab": {
          "base_uri": "https://localhost:8080/"
        }
      },
      "source": [
        "correlation = []\n",
        "for i in range(len(data.columns)-1):\n",
        "  col_x = x[:,i]\n",
        "  col_y = y\n",
        "  corr,_ = pearsonr(col_x, col_y)\n",
        "  correlation.append(corr)\n",
        "  print(corr)"
      ],
      "execution_count": 240,
      "outputs": [
        {
          "output_type": "stream",
          "text": [
            "0.1409424083755429\n",
            "0.20302370742156076\n",
            "-0.6893760311652588\n",
            "0.47061846454925926\n",
            "-0.40928366014780976\n",
            "-0.40129520449484846\n",
            "0.5841604199515842\n",
            "0.0520546612337646\n",
            "-0.7596746584301075\n",
            "0.38016536869410067\n",
            "-0.24054361076908157\n",
            "0.025158815679116875\n",
            "-0.2981239849779472\n",
            "-0.20316006300817877\n"
          ],
          "name": "stdout"
        }
      ]
    },
    {
      "cell_type": "code",
      "metadata": {
        "id": "5WRv3nDVYPxg",
        "outputId": "5804d3bb-6aef-45f4-a699-83bcb7759cee",
        "colab": {
          "base_uri": "https://localhost:8080/"
        }
      },
      "source": [
        "correlation"
      ],
      "execution_count": 241,
      "outputs": [
        {
          "output_type": "execute_result",
          "data": {
            "text/plain": [
              "[0.1409424083755429,\n",
              " 0.20302370742156076,\n",
              " -0.6893760311652588,\n",
              " 0.47061846454925926,\n",
              " -0.40928366014780976,\n",
              " -0.40129520449484846,\n",
              " 0.5841604199515842,\n",
              " 0.0520546612337646,\n",
              " -0.7596746584301075,\n",
              " 0.38016536869410067,\n",
              " -0.24054361076908157,\n",
              " 0.025158815679116875,\n",
              " -0.2981239849779472,\n",
              " -0.20316006300817877]"
            ]
          },
          "metadata": {
            "tags": []
          },
          "execution_count": 241
        }
      ]
    },
    {
      "cell_type": "code",
      "metadata": {
        "id": "ds-SXqr8YaeL",
        "outputId": "af0c9c03-963b-43b9-86db-1c65322c306c",
        "colab": {
          "base_uri": "https://localhost:8080/",
          "height": 295
        }
      },
      "source": [
        "#visualizing and studying the correlations\n",
        "import matplotlib.pyplot as plt\n",
        "\n",
        "plt.title('Printing correlations')\n",
        "plt.bar([i for i in range(14)], correlation, color = 'orange')\n",
        "plt.xlabel('Indices')\n",
        "plt.ylabel('Correlation coefficient')\n",
        "plt.grid()"
      ],
      "execution_count": 242,
      "outputs": [
        {
          "output_type": "display_data",
          "data": {
            "image/png": "[encoded data removed]",
            "text/plain": [
              "<Figure size 432x288 with 1 Axes>"
            ]
          },
          "metadata": {
            "tags": [],
            "needs_background": "light"
          }
        }
      ]
    },
    {
      "cell_type": "code",
      "metadata": {
        "id": "BowTiZm8ZDBR",
        "outputId": "2ef1a70c-d3cb-43ec-ca07-b069bf187eac",
        "colab": {
          "base_uri": "https://localhost:8080/"
        }
      },
      "source": [
        "#recording the index of those columns who have a correlation coefficient falling under the mentioned criteria\n",
        "\n",
        "index = []\n",
        "for i in range(14):\n",
        "  if correlation[i] <= 0.29 and correlation[i] >= -0.29:\n",
        "    index.append(i)\n",
        "    #print(i)\n",
        "index"
      ],
      "execution_count": 243,
      "outputs": [
        {
          "output_type": "execute_result",
          "data": {
            "text/plain": [
              "[0, 1, 7, 10, 11, 13]"
            ]
          },
          "metadata": {
            "tags": []
          },
          "execution_count": 243
        }
      ]
    },
    {
      "cell_type": "code",
      "metadata": {
        "id": "5uBEEdsdZafA",
        "outputId": "44d76b26-4793-4364-9416-2ce4e1b83806",
        "colab": {
          "base_uri": "https://localhost:8080/"
        }
      },
      "source": [
        "drop_col = []\n",
        "for i in index:\n",
        "  data.columns[i]\n",
        "  #print(data.columns[i])\n",
        "  drop_col.append(data.columns[i])\n",
        "drop_col"
      ],
      "execution_count": 244,
      "outputs": [
        {
          "output_type": "execute_result",
          "data": {
            "text/plain": [
              "['mfr', 'type', 'carbo', 'vitamins', 'shelf', 'cups']"
            ]
          },
          "metadata": {
            "tags": []
          },
          "execution_count": 244
        }
      ]
    },
    {
      "cell_type": "code",
      "metadata": {
        "id": "LnTtjwULZsL3",
        "outputId": "b2454a83-fd10-4fbe-a9ee-5f80b640aa1f",
        "colab": {
          "base_uri": "https://localhost:8080/",
          "height": 195
        }
      },
      "source": [
        "data = data.drop(drop_col, axis = 1)\n",
        "data.head()"
      ],
      "execution_count": 245,
      "outputs": [
        {
          "output_type": "execute_result",
          "data": {
            "text/html": [
              "<div>\n",
              "<style scoped>\n",
              "    .dataframe tbody tr th:only-of-type {\n",
              "        vertical-align: middle;\n",
              "    }\n",
              "\n",
              "    .dataframe tbody tr th {\n",
              "        vertical-align: top;\n",
              "    }\n",
              "\n",
              "    .dataframe thead th {\n",
              "        text-align: right;\n",
              "    }\n",
              "</style>\n",
              "<table border=\"1\" class=\"dataframe\">\n",
              "  <thead>\n",
              "    <tr style=\"text-align: right;\">\n",
              "      <th></th>\n",
              "      <th>calories</th>\n",
              "      <th>protein</th>\n",
              "      <th>fat</th>\n",
              "      <th>sodium</th>\n",
              "      <th>fiber</th>\n",
              "      <th>sugars</th>\n",
              "      <th>potass</th>\n",
              "      <th>weight</th>\n",
              "      <th>rating</th>\n",
              "    </tr>\n",
              "  </thead>\n",
              "  <tbody>\n",
              "    <tr>\n",
              "      <th>0</th>\n",
              "      <td>70</td>\n",
              "      <td>4</td>\n",
              "      <td>1</td>\n",
              "      <td>130</td>\n",
              "      <td>10.0</td>\n",
              "      <td>6</td>\n",
              "      <td>280</td>\n",
              "      <td>1.0</td>\n",
              "      <td>68.402973</td>\n",
              "    </tr>\n",
              "    <tr>\n",
              "      <th>1</th>\n",
              "      <td>120</td>\n",
              "      <td>3</td>\n",
              "      <td>5</td>\n",
              "      <td>15</td>\n",
              "      <td>2.0</td>\n",
              "      <td>8</td>\n",
              "      <td>135</td>\n",
              "      <td>1.0</td>\n",
              "      <td>33.983679</td>\n",
              "    </tr>\n",
              "    <tr>\n",
              "      <th>2</th>\n",
              "      <td>70</td>\n",
              "      <td>4</td>\n",
              "      <td>1</td>\n",
              "      <td>260</td>\n",
              "      <td>9.0</td>\n",
              "      <td>5</td>\n",
              "      <td>320</td>\n",
              "      <td>1.0</td>\n",
              "      <td>59.425505</td>\n",
              "    </tr>\n",
              "    <tr>\n",
              "      <th>3</th>\n",
              "      <td>50</td>\n",
              "      <td>4</td>\n",
              "      <td>0</td>\n",
              "      <td>140</td>\n",
              "      <td>14.0</td>\n",
              "      <td>0</td>\n",
              "      <td>330</td>\n",
              "      <td>1.0</td>\n",
              "      <td>93.704912</td>\n",
              "    </tr>\n",
              "    <tr>\n",
              "      <th>4</th>\n",
              "      <td>110</td>\n",
              "      <td>2</td>\n",
              "      <td>2</td>\n",
              "      <td>200</td>\n",
              "      <td>1.0</td>\n",
              "      <td>8</td>\n",
              "      <td>-1</td>\n",
              "      <td>1.0</td>\n",
              "      <td>34.384843</td>\n",
              "    </tr>\n",
              "  </tbody>\n",
              "</table>\n",
              "</div>"
            ],
            "text/plain": [
              "   calories  protein  fat  sodium  fiber  sugars  potass  weight     rating\n",
              "0        70        4    1     130   10.0       6     280     1.0  68.402973\n",
              "1       120        3    5      15    2.0       8     135     1.0  33.983679\n",
              "2        70        4    1     260    9.0       5     320     1.0  59.425505\n",
              "3        50        4    0     140   14.0       0     330     1.0  93.704912\n",
              "4       110        2    2     200    1.0       8      -1     1.0  34.384843"
            ]
          },
          "metadata": {
            "tags": []
          },
          "execution_count": 245
        }
      ]
    },
    {
      "cell_type": "code",
      "metadata": {
        "id": "YoNGyrOiZ8QU",
        "outputId": "0397011c-5a6d-42e9-f2dd-4e3bd97931f9",
        "colab": {
          "base_uri": "https://localhost:8080/"
        }
      },
      "source": [
        "x = data.iloc[:,:-1].values\n",
        "x"
      ],
      "execution_count": 246,
      "outputs": [
        {
          "output_type": "execute_result",
          "data": {
            "text/plain": [
              "array([[ 70.  ,   4.  ,   1.  , 130.  ,  10.  ,   6.  , 280.  ,   1.  ],\n",
              "       [120.  ,   3.  ,   5.  ,  15.  ,   2.  ,   8.  , 135.  ,   1.  ],\n",
              "       [ 70.  ,   4.  ,   1.  , 260.  ,   9.  ,   5.  , 320.  ,   1.  ],\n",
              "       [ 50.  ,   4.  ,   0.  , 140.  ,  14.  ,   0.  , 330.  ,   1.  ],\n",
              "       [110.  ,   2.  ,   2.  , 200.  ,   1.  ,   8.  ,  -1.  ,   1.  ],\n",
              "       [110.  ,   2.  ,   2.  , 180.  ,   1.5 ,  10.  ,  70.  ,   1.  ],\n",
              "       [110.  ,   2.  ,   0.  , 125.  ,   1.  ,  14.  ,  30.  ,   1.  ],\n",
              "       [130.  ,   3.  ,   2.  , 210.  ,   2.  ,   8.  , 100.  ,   1.33],\n",
              "       [ 90.  ,   2.  ,   1.  , 200.  ,   4.  ,   6.  , 125.  ,   1.  ],\n",
              "       [ 90.  ,   3.  ,   0.  , 210.  ,   5.  ,   5.  , 190.  ,   1.  ],\n",
              "       [120.  ,   1.  ,   2.  , 220.  ,   0.  ,  12.  ,  35.  ,   1.  ],\n",
              "       [110.  ,   6.  ,   2.  , 290.  ,   2.  ,   1.  , 105.  ,   1.  ],\n",
              "       [120.  ,   1.  ,   3.  , 210.  ,   0.  ,   9.  ,  45.  ,   1.  ],\n",
              "       [110.  ,   3.  ,   2.  , 140.  ,   2.  ,   7.  , 105.  ,   1.  ],\n",
              "       [110.  ,   1.  ,   1.  , 180.  ,   0.  ,  13.  ,  55.  ,   1.  ],\n",
              "       [110.  ,   2.  ,   0.  , 280.  ,   0.  ,   3.  ,  25.  ,   1.  ],\n",
              "       [100.  ,   2.  ,   0.  , 290.  ,   1.  ,   2.  ,  35.  ,   1.  ],\n",
              "       [110.  ,   1.  ,   0.  ,  90.  ,   1.  ,  12.  ,  20.  ,   1.  ],\n",
              "       [110.  ,   1.  ,   1.  , 180.  ,   0.  ,  13.  ,  65.  ,   1.  ],\n",
              "       [110.  ,   3.  ,   3.  , 140.  ,   4.  ,   7.  , 160.  ,   1.  ],\n",
              "       [100.  ,   3.  ,   0.  ,  80.  ,   1.  ,   0.  ,  -1.  ,   1.  ],\n",
              "       [110.  ,   2.  ,   0.  , 220.  ,   1.  ,   3.  ,  30.  ,   1.  ],\n",
              "       [100.  ,   2.  ,   1.  , 140.  ,   2.  ,  10.  , 120.  ,   1.  ],\n",
              "       [100.  ,   2.  ,   0.  , 190.  ,   1.  ,   5.  ,  80.  ,   1.  ],\n",
              "       [110.  ,   2.  ,   1.  , 125.  ,   1.  ,  13.  ,  30.  ,   1.  ],\n",
              "       [110.  ,   1.  ,   0.  , 200.  ,   1.  ,  11.  ,  25.  ,   1.  ],\n",
              "       [100.  ,   3.  ,   0.  ,   0.  ,   3.  ,   7.  , 100.  ,   1.  ],\n",
              "       [120.  ,   3.  ,   2.  , 160.  ,   5.  ,  10.  , 200.  ,   1.25],\n",
              "       [120.  ,   3.  ,   0.  , 240.  ,   5.  ,  12.  , 190.  ,   1.33],\n",
              "       [110.  ,   1.  ,   1.  , 135.  ,   0.  ,  12.  ,  25.  ,   1.  ],\n",
              "       [100.  ,   2.  ,   0.  ,  45.  ,   0.  ,  15.  ,  40.  ,   1.  ],\n",
              "       [110.  ,   1.  ,   1.  , 280.  ,   0.  ,   9.  ,  45.  ,   1.  ],\n",
              "       [100.  ,   3.  ,   1.  , 140.  ,   3.  ,   5.  ,  85.  ,   1.  ],\n",
              "       [110.  ,   3.  ,   0.  , 170.  ,   3.  ,   3.  ,  90.  ,   1.  ],\n",
              "       [120.  ,   3.  ,   3.  ,  75.  ,   3.  ,   4.  , 100.  ,   1.  ],\n",
              "       [120.  ,   1.  ,   2.  , 220.  ,   1.  ,  11.  ,  45.  ,   1.  ],\n",
              "       [110.  ,   3.  ,   1.  , 250.  ,   1.5 ,  10.  ,  90.  ,   1.  ],\n",
              "       [110.  ,   1.  ,   0.  , 180.  ,   0.  ,  11.  ,  35.  ,   1.  ],\n",
              "       [110.  ,   2.  ,   1.  , 170.  ,   1.  ,   6.  ,  60.  ,   1.  ],\n",
              "       [140.  ,   3.  ,   1.  , 170.  ,   2.  ,   9.  ,  95.  ,   1.3 ],\n",
              "       [110.  ,   2.  ,   1.  , 260.  ,   0.  ,   3.  ,  40.  ,   1.  ],\n",
              "       [100.  ,   4.  ,   2.  , 150.  ,   2.  ,   6.  ,  95.  ,   1.  ],\n",
              "       [110.  ,   2.  ,   1.  , 180.  ,   0.  ,  12.  ,  55.  ,   1.  ],\n",
              "       [100.  ,   4.  ,   1.  ,   0.  ,   0.  ,   3.  ,  95.  ,   1.  ],\n",
              "       [150.  ,   4.  ,   3.  ,  95.  ,   3.  ,  11.  , 170.  ,   1.  ],\n",
              "       [150.  ,   4.  ,   3.  , 150.  ,   3.  ,  11.  , 170.  ,   1.  ],\n",
              "       [160.  ,   3.  ,   2.  , 150.  ,   3.  ,  13.  , 160.  ,   1.5 ],\n",
              "       [100.  ,   2.  ,   1.  , 220.  ,   2.  ,   6.  ,  90.  ,   1.  ],\n",
              "       [120.  ,   2.  ,   1.  , 190.  ,   0.  ,   9.  ,  40.  ,   1.  ],\n",
              "       [140.  ,   3.  ,   2.  , 220.  ,   3.  ,   7.  , 130.  ,   1.33],\n",
              "       [ 90.  ,   3.  ,   0.  , 170.  ,   3.  ,   2.  ,  90.  ,   1.  ],\n",
              "       [130.  ,   3.  ,   2.  , 170.  ,   1.5 ,  10.  , 120.  ,   1.25],\n",
              "       [120.  ,   3.  ,   1.  , 200.  ,   6.  ,  14.  , 260.  ,   1.33],\n",
              "       [100.  ,   3.  ,   0.  , 320.  ,   1.  ,   3.  ,  45.  ,   1.  ],\n",
              "       [ 50.  ,   1.  ,   0.  ,   0.  ,   0.  ,   0.  ,  15.  ,   0.5 ],\n",
              "       [ 50.  ,   2.  ,   0.  ,   0.  ,   1.  ,   0.  ,  50.  ,   0.5 ],\n",
              "       [100.  ,   4.  ,   1.  , 135.  ,   2.  ,   6.  , 110.  ,   1.  ],\n",
              "       [100.  ,   5.  ,   2.  ,   0.  ,   2.7 ,  -1.  , 110.  ,   1.  ],\n",
              "       [120.  ,   3.  ,   1.  , 210.  ,   5.  ,  12.  , 240.  ,   1.33],\n",
              "       [100.  ,   3.  ,   2.  , 140.  ,   2.5 ,   8.  , 140.  ,   1.  ],\n",
              "       [ 90.  ,   2.  ,   0.  ,   0.  ,   2.  ,   6.  , 110.  ,   1.  ],\n",
              "       [110.  ,   1.  ,   0.  , 240.  ,   0.  ,   2.  ,  30.  ,   1.  ],\n",
              "       [110.  ,   2.  ,   0.  , 290.  ,   0.  ,   3.  ,  35.  ,   1.  ],\n",
              "       [ 80.  ,   2.  ,   0.  ,   0.  ,   3.  ,   0.  ,  95.  ,   0.83],\n",
              "       [ 90.  ,   3.  ,   0.  ,   0.  ,   4.  ,   0.  , 140.  ,   1.  ],\n",
              "       [ 90.  ,   3.  ,   0.  ,   0.  ,   3.  ,   0.  , 120.  ,   1.  ],\n",
              "       [110.  ,   2.  ,   1.  ,  70.  ,   1.  ,  15.  ,  40.  ,   1.  ],\n",
              "       [110.  ,   6.  ,   0.  , 230.  ,   1.  ,   3.  ,  55.  ,   1.  ],\n",
              "       [ 90.  ,   2.  ,   0.  ,  15.  ,   3.  ,   5.  ,  90.  ,   1.  ],\n",
              "       [110.  ,   2.  ,   1.  , 200.  ,   0.  ,   3.  ,  35.  ,   1.  ],\n",
              "       [140.  ,   3.  ,   1.  , 190.  ,   4.  ,  14.  , 230.  ,   1.5 ],\n",
              "       [100.  ,   3.  ,   1.  , 200.  ,   3.  ,   3.  , 110.  ,   1.  ],\n",
              "       [110.  ,   2.  ,   1.  , 250.  ,   0.  ,   3.  ,  60.  ,   1.  ],\n",
              "       [110.  ,   1.  ,   1.  , 140.  ,   0.  ,  12.  ,  25.  ,   1.  ],\n",
              "       [100.  ,   3.  ,   1.  , 230.  ,   3.  ,   3.  , 115.  ,   1.  ],\n",
              "       [100.  ,   3.  ,   1.  , 200.  ,   3.  ,   3.  , 110.  ,   1.  ],\n",
              "       [110.  ,   2.  ,   1.  , 200.  ,   1.  ,   8.  ,  60.  ,   1.  ]])"
            ]
          },
          "metadata": {
            "tags": []
          },
          "execution_count": 246
        }
      ]
    },
    {
      "cell_type": "code",
      "metadata": {
        "id": "hYKXSMC_aTj0"
      },
      "source": [
        "#splitting into test and train set\n",
        "from sklearn.model_selection import train_test_split\n",
        "x_train, x_test, y_train, y_test = train_test_split(x, y, test_size = 0.2)"
      ],
      "execution_count": 247,
      "outputs": []
    },
    {
      "cell_type": "code",
      "metadata": {
        "id": "7NNjaZ49avO7",
        "outputId": "bd16a2f6-f4aa-4799-d280-c7a8661e4506",
        "colab": {
          "base_uri": "https://localhost:8080/"
        }
      },
      "source": [
        "#fitting the model\n",
        "from sklearn.linear_model import LinearRegression\n",
        "regressor = LinearRegression()\n",
        "regressor.fit(x_train, y_train)"
      ],
      "execution_count": 248,
      "outputs": [
        {
          "output_type": "execute_result",
          "data": {
            "text/plain": [
              "LinearRegression(copy_X=True, fit_intercept=True, n_jobs=None, normalize=False)"
            ]
          },
          "metadata": {
            "tags": []
          },
          "execution_count": 248
        }
      ]
    },
    {
      "cell_type": "code",
      "metadata": {
        "id": "u3YUd3ARa_QU",
        "outputId": "d6814605-27ea-4eed-b216-19f42d967df7",
        "colab": {
          "base_uri": "https://localhost:8080/"
        }
      },
      "source": [
        "regressor.score(x_test, y_test)  #no regularization"
      ],
      "execution_count": 249,
      "outputs": [
        {
          "output_type": "execute_result",
          "data": {
            "text/plain": [
              "0.9886767383801109"
            ]
          },
          "metadata": {
            "tags": []
          },
          "execution_count": 249
        }
      ]
    },
    {
      "cell_type": "code",
      "metadata": {
        "id": "tcWlAEY2bd_6"
      },
      "source": [
        "y_pred = regressor.predict(x_test)"
      ],
      "execution_count": 250,
      "outputs": []
    },
    {
      "cell_type": "code",
      "metadata": {
        "id": "83nLVDcycKom",
        "outputId": "f4d9b1ab-4a37-4e50-8c6b-dd342552d35b",
        "colab": {
          "base_uri": "https://localhost:8080/"
        }
      },
      "source": [
        "#regularizing the linear model\n",
        "from sklearn.linear_model import Ridge\n",
        "ridge_reg_1 = Ridge(alpha = 1, normalize = True)\n",
        "ridge_reg_1.fit(x_train, y_train)\n",
        "ridge_reg_1.score(x_test, y_test)  #alpha = 1"
      ],
      "execution_count": 251,
      "outputs": [
        {
          "output_type": "execute_result",
          "data": {
            "text/plain": [
              "0.8440065902059363"
            ]
          },
          "metadata": {
            "tags": []
          },
          "execution_count": 251
        }
      ]
    },
    {
      "cell_type": "code",
      "metadata": {
        "id": "OgsrkNVRdJmy",
        "outputId": "4c144560-ad97-45ba-8485-6fa55ce37e2c",
        "colab": {
          "base_uri": "https://localhost:8080/"
        }
      },
      "source": [
        "ridge_reg_05 = Ridge(alpha = 0.5, normalize = True)\n",
        "ridge_reg_05.fit(x_train, y_train)\n",
        "ridge_reg_05.score(x_test, y_test)  #alpha = 0.5"
      ],
      "execution_count": 252,
      "outputs": [
        {
          "output_type": "execute_result",
          "data": {
            "text/plain": [
              "0.9137476660610283"
            ]
          },
          "metadata": {
            "tags": []
          },
          "execution_count": 252
        }
      ]
    },
    {
      "cell_type": "code",
      "metadata": {
        "id": "Vh9lKGrVdnLv",
        "outputId": "0fa5cb1a-6cb0-4635-d720-5d3bbae9a526",
        "colab": {
          "base_uri": "https://localhost:8080/"
        }
      },
      "source": [
        "ridge_reg_2 = Ridge(alpha = 2, normalize = True)\n",
        "ridge_reg_2.fit(x_train, y_train)\n",
        "ridge_reg_2.score(x_test, y_test)  #alpha = 2"
      ],
      "execution_count": 253,
      "outputs": [
        {
          "output_type": "execute_result",
          "data": {
            "text/plain": [
              "0.7205085716430704"
            ]
          },
          "metadata": {
            "tags": []
          },
          "execution_count": 253
        }
      ]
    }
  ]
}